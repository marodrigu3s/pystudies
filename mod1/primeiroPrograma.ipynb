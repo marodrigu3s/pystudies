{
 "cells": [
  {
   "cell_type": "markdown",
   "metadata": {},
   "source": [
    "# Python e Lógica de Programação \n",
    "\n",
    "### 1. Operações básicas \n",
    "\n",
    "- Ordem das operações matemáticas em python é a mesma que a matemática real;\n",
    "- 7 % 3 - resulta no resto da divisão de 7 por 3, que no caso é 1.\n"
   ]
  },
  {
   "cell_type": "code",
   "execution_count": 5,
   "metadata": {},
   "outputs": [
    {
     "name": "stdout",
     "output_type": "stream",
     "text": [
      "18\n",
      "1\n"
     ]
    }
   ],
   "source": [
    "print(6 + 3 * 4)\n",
    "\n",
    "print(7 % 3)"
   ]
  },
  {
   "cell_type": "markdown",
   "metadata": {},
   "source": [
    "### 2. Operações com Texto (String)\n",
    "\n",
    "- Para concatenar strings, pode-se utilizar o operador '+';\n",
    "- É necessário utilizar aspas simples ou duplas;\n",
    "- Para ver se uma string está na outra, utiliza-se o operador 'in';\n",
    "- A operação com 'in' é case sensitive."
   ]
  },
  {
   "cell_type": "code",
   "execution_count": 12,
   "metadata": {},
   "outputs": [
    {
     "name": "stdout",
     "output_type": "stream",
     "text": [
      "meu nome é Maria\n",
      "False\n",
      "True\n",
      "False\n"
     ]
    }
   ],
   "source": [
    "print(\"meu nome é \" + \"Maria\")\n",
    "\n",
    "print(\"maria\" in \"eduarda\")\n",
    "\n",
    "print(\"M\" in \"Maria\")\n",
    "print(\"m\" in \"Maria\")"
   ]
  },
  {
   "cell_type": "markdown",
   "metadata": {},
   "source": [
    "### 3. Variáveis\n",
    "\n",
    "- Nome que você da a um valor;\n",
    "- Em python, não é necessário declarar o tipo da variável."
   ]
  },
  {
   "cell_type": "code",
   "execution_count": 14,
   "metadata": {},
   "outputs": [
    {
     "name": "stdout",
     "output_type": "stream",
     "text": [
      "1500\n"
     ]
    }
   ],
   "source": [
    "qtde_vendas = 1500\n",
    "print(qtde_vendas)"
   ]
  },
  {
   "cell_type": "markdown",
   "metadata": {},
   "source": [
    "### 4. Input \n",
    "\n",
    "- É uma maneira de pegar informações do usuário;\n",
    "- É importante armazenar essa informação do input em uma variável."
   ]
  },
  {
   "cell_type": "code",
   "execution_count": 20,
   "metadata": {},
   "outputs": [
    {
     "name": "stdout",
     "output_type": "stream",
     "text": [
      "Seja bem vindo(a), Maria Rodrigues!\n"
     ]
    }
   ],
   "source": [
    "nome = input('Qual é o seu primeiro nome?')\n",
    "sobrenome = input('Qual seu sobrenome?')\n",
    "\n",
    "print(\"Seja bem vindo(a), \" + nome + ' ' + sobrenome + \"!\")"
   ]
  }
 ],
 "metadata": {
  "kernelspec": {
   "display_name": "Python 3",
   "language": "python",
   "name": "python3"
  },
  "language_info": {
   "codemirror_mode": {
    "name": "ipython",
    "version": 3
   },
   "file_extension": ".py",
   "mimetype": "text/x-python",
   "name": "python",
   "nbconvert_exporter": "python",
   "pygments_lexer": "ipython3",
   "version": "3.12.4"
  }
 },
 "nbformat": 4,
 "nbformat_minor": 2
}
